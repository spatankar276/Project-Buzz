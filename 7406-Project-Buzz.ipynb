{
 "cells": [
  {
   "cell_type": "code",
   "execution_count": 59,
   "id": "60e626d3",
   "metadata": {},
   "outputs": [
    {
     "name": "stdout",
     "output_type": "stream",
     "text": [
      "'data.frame':\t4898 obs. of  12 variables:\n",
      " $ fixed.acidity       : num  7 6.3 8.1 7.2 7.2 8.1 6.2 7 6.3 8.1 ...\n",
      " $ volatile.acidity    : num  0.27 0.3 0.28 0.23 0.23 0.28 0.32 0.27 0.3 0.22 ...\n",
      " $ citric.acid         : num  0.36 0.34 0.4 0.32 0.32 0.4 0.16 0.36 0.34 0.43 ...\n",
      " $ residual.sugar      : num  20.7 1.6 6.9 8.5 8.5 6.9 7 20.7 1.6 1.5 ...\n",
      " $ chlorides           : num  0.045 0.049 0.05 0.058 0.058 0.05 0.045 0.045 0.049 0.044 ...\n",
      " $ free.sulfur.dioxide : num  45 14 30 47 47 30 30 45 14 28 ...\n",
      " $ total.sulfur.dioxide: num  170 132 97 186 186 97 136 170 132 129 ...\n",
      " $ density             : num  1.001 0.994 0.995 0.996 0.996 ...\n",
      " $ pH                  : num  3 3.3 3.26 3.19 3.19 3.26 3.18 3 3.3 3.22 ...\n",
      " $ sulphates           : num  0.45 0.49 0.44 0.4 0.4 0.44 0.47 0.45 0.49 0.45 ...\n",
      " $ alcohol             : num  8.8 9.5 10.1 9.9 9.9 10.1 9.6 8.8 9.5 11 ...\n",
      " $ quality             : int  6 6 6 6 6 6 6 6 6 6 ...\n"
     ]
    },
    {
     "data": {
      "text/plain": [
       " fixed.acidity    volatile.acidity  citric.acid     residual.sugar  \n",
       " Min.   : 3.800   Min.   :0.0800   Min.   :0.0000   Min.   : 0.600  \n",
       " 1st Qu.: 6.300   1st Qu.:0.2100   1st Qu.:0.2700   1st Qu.: 1.700  \n",
       " Median : 6.800   Median :0.2600   Median :0.3200   Median : 5.200  \n",
       " Mean   : 6.855   Mean   :0.2782   Mean   :0.3342   Mean   : 6.391  \n",
       " 3rd Qu.: 7.300   3rd Qu.:0.3200   3rd Qu.:0.3900   3rd Qu.: 9.900  \n",
       " Max.   :14.200   Max.   :1.1000   Max.   :1.6600   Max.   :65.800  \n",
       "   chlorides       free.sulfur.dioxide total.sulfur.dioxide    density      \n",
       " Min.   :0.00900   Min.   :  2.00      Min.   :  9.0        Min.   :0.9871  \n",
       " 1st Qu.:0.03600   1st Qu.: 23.00      1st Qu.:108.0        1st Qu.:0.9917  \n",
       " Median :0.04300   Median : 34.00      Median :134.0        Median :0.9937  \n",
       " Mean   :0.04577   Mean   : 35.31      Mean   :138.4        Mean   :0.9940  \n",
       " 3rd Qu.:0.05000   3rd Qu.: 46.00      3rd Qu.:167.0        3rd Qu.:0.9961  \n",
       " Max.   :0.34600   Max.   :289.00      Max.   :440.0        Max.   :1.0390  \n",
       "       pH          sulphates         alcohol         quality     \n",
       " Min.   :2.720   Min.   :0.2200   Min.   : 8.00   Min.   :3.000  \n",
       " 1st Qu.:3.090   1st Qu.:0.4100   1st Qu.: 9.50   1st Qu.:5.000  \n",
       " Median :3.180   Median :0.4700   Median :10.40   Median :6.000  \n",
       " Mean   :3.188   Mean   :0.4898   Mean   :10.51   Mean   :5.878  \n",
       " 3rd Qu.:3.280   3rd Qu.:0.5500   3rd Qu.:11.40   3rd Qu.:6.000  \n",
       " Max.   :3.820   Max.   :1.0800   Max.   :14.20   Max.   :9.000  "
      ]
     },
     "metadata": {},
     "output_type": "display_data"
    },
    {
     "data": {
      "text/html": [
       "<table>\n",
       "<thead><tr><th scope=col>fixed.acidity</th><th scope=col>volatile.acidity</th><th scope=col>citric.acid</th><th scope=col>residual.sugar</th><th scope=col>chlorides</th><th scope=col>free.sulfur.dioxide</th><th scope=col>total.sulfur.dioxide</th><th scope=col>density</th><th scope=col>pH</th><th scope=col>sulphates</th><th scope=col>alcohol</th><th scope=col>quality</th></tr></thead>\n",
       "<tbody>\n",
       "\t<tr><td>7.0   </td><td>0.27  </td><td>0.36  </td><td>20.7  </td><td>0.045 </td><td>45    </td><td>170   </td><td>1.0010</td><td>3.00  </td><td>0.45  </td><td> 8.8  </td><td>6     </td></tr>\n",
       "\t<tr><td>6.3   </td><td>0.30  </td><td>0.34  </td><td> 1.6  </td><td>0.049 </td><td>14    </td><td>132   </td><td>0.9940</td><td>3.30  </td><td>0.49  </td><td> 9.5  </td><td>6     </td></tr>\n",
       "\t<tr><td>8.1   </td><td>0.28  </td><td>0.40  </td><td> 6.9  </td><td>0.050 </td><td>30    </td><td> 97   </td><td>0.9951</td><td>3.26  </td><td>0.44  </td><td>10.1  </td><td>6     </td></tr>\n",
       "\t<tr><td>7.2   </td><td>0.23  </td><td>0.32  </td><td> 8.5  </td><td>0.058 </td><td>47    </td><td>186   </td><td>0.9956</td><td>3.19  </td><td>0.40  </td><td> 9.9  </td><td>6     </td></tr>\n",
       "\t<tr><td>7.2   </td><td>0.23  </td><td>0.32  </td><td> 8.5  </td><td>0.058 </td><td>47    </td><td>186   </td><td>0.9956</td><td>3.19  </td><td>0.40  </td><td> 9.9  </td><td>6     </td></tr>\n",
       "\t<tr><td>8.1   </td><td>0.28  </td><td>0.40  </td><td> 6.9  </td><td>0.050 </td><td>30    </td><td> 97   </td><td>0.9951</td><td>3.26  </td><td>0.44  </td><td>10.1  </td><td>6     </td></tr>\n",
       "</tbody>\n",
       "</table>\n"
      ],
      "text/latex": [
       "\\begin{tabular}{r|llllllllllll}\n",
       " fixed.acidity & volatile.acidity & citric.acid & residual.sugar & chlorides & free.sulfur.dioxide & total.sulfur.dioxide & density & pH & sulphates & alcohol & quality\\\\\n",
       "\\hline\n",
       "\t 7.0    & 0.27   & 0.36   & 20.7   & 0.045  & 45     & 170    & 1.0010 & 3.00   & 0.45   &  8.8   & 6     \\\\\n",
       "\t 6.3    & 0.30   & 0.34   &  1.6   & 0.049  & 14     & 132    & 0.9940 & 3.30   & 0.49   &  9.5   & 6     \\\\\n",
       "\t 8.1    & 0.28   & 0.40   &  6.9   & 0.050  & 30     &  97    & 0.9951 & 3.26   & 0.44   & 10.1   & 6     \\\\\n",
       "\t 7.2    & 0.23   & 0.32   &  8.5   & 0.058  & 47     & 186    & 0.9956 & 3.19   & 0.40   &  9.9   & 6     \\\\\n",
       "\t 7.2    & 0.23   & 0.32   &  8.5   & 0.058  & 47     & 186    & 0.9956 & 3.19   & 0.40   &  9.9   & 6     \\\\\n",
       "\t 8.1    & 0.28   & 0.40   &  6.9   & 0.050  & 30     &  97    & 0.9951 & 3.26   & 0.44   & 10.1   & 6     \\\\\n",
       "\\end{tabular}\n"
      ],
      "text/markdown": [
       "\n",
       "| fixed.acidity | volatile.acidity | citric.acid | residual.sugar | chlorides | free.sulfur.dioxide | total.sulfur.dioxide | density | pH | sulphates | alcohol | quality |\n",
       "|---|---|---|---|---|---|---|---|---|---|---|---|\n",
       "| 7.0    | 0.27   | 0.36   | 20.7   | 0.045  | 45     | 170    | 1.0010 | 3.00   | 0.45   |  8.8   | 6      |\n",
       "| 6.3    | 0.30   | 0.34   |  1.6   | 0.049  | 14     | 132    | 0.9940 | 3.30   | 0.49   |  9.5   | 6      |\n",
       "| 8.1    | 0.28   | 0.40   |  6.9   | 0.050  | 30     |  97    | 0.9951 | 3.26   | 0.44   | 10.1   | 6      |\n",
       "| 7.2    | 0.23   | 0.32   |  8.5   | 0.058  | 47     | 186    | 0.9956 | 3.19   | 0.40   |  9.9   | 6      |\n",
       "| 7.2    | 0.23   | 0.32   |  8.5   | 0.058  | 47     | 186    | 0.9956 | 3.19   | 0.40   |  9.9   | 6      |\n",
       "| 8.1    | 0.28   | 0.40   |  6.9   | 0.050  | 30     |  97    | 0.9951 | 3.26   | 0.44   | 10.1   | 6      |\n",
       "\n"
      ],
      "text/plain": [
       "  fixed.acidity volatile.acidity citric.acid residual.sugar chlorides\n",
       "1 7.0           0.27             0.36        20.7           0.045    \n",
       "2 6.3           0.30             0.34         1.6           0.049    \n",
       "3 8.1           0.28             0.40         6.9           0.050    \n",
       "4 7.2           0.23             0.32         8.5           0.058    \n",
       "5 7.2           0.23             0.32         8.5           0.058    \n",
       "6 8.1           0.28             0.40         6.9           0.050    \n",
       "  free.sulfur.dioxide total.sulfur.dioxide density pH   sulphates alcohol\n",
       "1 45                  170                  1.0010  3.00 0.45       8.8   \n",
       "2 14                  132                  0.9940  3.30 0.49       9.5   \n",
       "3 30                   97                  0.9951  3.26 0.44      10.1   \n",
       "4 47                  186                  0.9956  3.19 0.40       9.9   \n",
       "5 47                  186                  0.9956  3.19 0.40       9.9   \n",
       "6 30                   97                  0.9951  3.26 0.44      10.1   \n",
       "  quality\n",
       "1 6      \n",
       "2 6      \n",
       "3 6      \n",
       "4 6      \n",
       "5 6      \n",
       "6 6      "
      ]
     },
     "metadata": {},
     "output_type": "display_data"
    }
   ],
   "source": [
    "library(dplyr)\n",
    "library(caret)\n",
    "library(lattice)\n",
    "library(ggplot2)\n",
    "library(qcc)\n",
    "library(stats)\n",
    "library(Hmisc)\n",
    "library(car)\n",
    "library(leaps)\n",
    "library(outliers)\n",
    "library(kknn)\n",
    "library(knitr)\n",
    "library(psych)\n",
    "library(corrplot)\n",
    "library(tidyverse)\n",
    "library(cli)\n",
    "library(devtools)\n",
    "library(tree)\n",
    "library(rpart)\n",
    "library(pROC)\n",
    "#library(pR2)\n",
    "#library(multinom)\n",
    "\n",
    "library(lattice)\n",
    "library(ggplot2)\n",
    "\n",
    "library(comprehenr)\n",
    "library(gridExtra)\n",
    "library(MASS)\n",
    "\n",
    "setwd(\"~/Downloads/Datasets/7406/Project\")\n",
    "\n",
    "white <- read.csv(file = \"winequality_white.csv\", head = TRUE, sep=\";\")\n",
    "\n",
    "#white$quality <- as.factor(white$quality)\n",
    "str(white)\n",
    "summary(white)\n",
    "head(white)\n",
    "\n"
   ]
  },
  {
   "cell_type": "code",
   "execution_count": 66,
   "id": "d9a0e2d9",
   "metadata": {},
   "outputs": [
    {
     "data": {
      "text/plain": [
       "\n",
       "Call:\n",
       "lm(formula = quality ~ . - chlorides - total.sulfur.dioxide, \n",
       "    data = train)\n",
       "\n",
       "Residuals:\n",
       "    Min      1Q  Median      3Q     Max \n",
       "-3.7514 -0.5040 -0.0328  0.4623  3.1285 \n",
       "\n",
       "Coefficients:\n",
       "                      Estimate Std. Error t value Pr(>|t|)    \n",
       "(Intercept)          1.403e+02  1.958e+01   7.166 9.21e-13 ***\n",
       "fixed.acidity        4.748e-02  2.254e-02   2.106   0.0352 *  \n",
       "volatile.acidity    -1.889e+00  1.242e-01 -15.212  < 2e-16 ***\n",
       "citric.acid         -9.342e-03  1.065e-01  -0.088   0.9301    \n",
       "residual.sugar       7.933e-02  7.954e-03   9.974  < 2e-16 ***\n",
       "free.sulfur.dioxide  3.094e-03  7.485e-04   4.134 3.64e-05 ***\n",
       "density             -1.400e+02  1.985e+01  -7.052 2.08e-12 ***\n",
       "pH                   5.575e-01  1.144e-01   4.871 1.15e-06 ***\n",
       "sulphates            6.075e-01  1.125e-01   5.402 6.98e-08 ***\n",
       "alcohol              2.132e-01  2.616e-02   8.151 4.82e-16 ***\n",
       "---\n",
       "Signif. codes:  0 ‘***’ 0.001 ‘**’ 0.01 ‘*’ 0.05 ‘.’ 0.1 ‘ ’ 1\n",
       "\n",
       "Residual standard error: 0.7504 on 3908 degrees of freedom\n",
       "Multiple R-squared:  0.2809,\tAdjusted R-squared:  0.2792 \n",
       "F-statistic: 169.6 on 9 and 3908 DF,  p-value: < 2.2e-16\n"
      ]
     },
     "metadata": {},
     "output_type": "display_data"
    },
    {
     "name": "stdout",
     "output_type": "stream",
     "text": [
      "[1] \"AIC =  8881.2    BIC =  8950.2\"\n"
     ]
    }
   ],
   "source": [
    "# LOgistic Regression\n",
    "\n",
    "set.seed(6501)\n",
    "\n",
    "nobs <- nrow(white)\n",
    "spl <- 0.8\n",
    "\n",
    "shuffle_index <- sample(1:nobs)\n",
    "white <- white[shuffle_index, ]\n",
    "\n",
    "train_indices = sample(1:nobs, nobs * spl)\n",
    "\n",
    "train = white[train_indices,] \n",
    "test = white[-train_indices,]\n",
    "\n",
    "mod1 = lm(quality ~. - chlorides - total.sulfur.dioxide ,data = train) \n",
    "summary(mod1)\n",
    "\n",
    "kv <- 9\n",
    "ad <- 2*kv*(kv+1)/(nrow(train)-kv-1)\n",
    "aic_ad1 <- round(AIC(mod1) + ad,1)\n",
    "bic1 <- round(BIC(mod1),1)\n",
    "\n",
    "print(paste('AIC = ', aic_ad1, '   BIC = ', bic1))\n",
    "\n",
    "\n"
   ]
  },
  {
   "cell_type": "code",
   "execution_count": null,
   "id": "50107cd6",
   "metadata": {},
   "outputs": [],
   "source": []
  }
 ],
 "metadata": {
  "kernelspec": {
   "display_name": "R",
   "language": "R",
   "name": "ir"
  },
  "language_info": {
   "codemirror_mode": "r",
   "file_extension": ".r",
   "mimetype": "text/x-r-source",
   "name": "R",
   "pygments_lexer": "r",
   "version": "3.6.1"
  }
 },
 "nbformat": 4,
 "nbformat_minor": 5
}
