{
 "cells": [
  {
   "cell_type": "markdown",
   "id": "508a147d",
   "metadata": {},
   "source": [
    "# Load Libraries"
   ]
  },
  {
   "cell_type": "code",
   "execution_count": 4,
   "id": "8e85575a",
   "metadata": {},
   "outputs": [
    {
     "name": "stderr",
     "output_type": "stream",
     "text": [
      "Loaded gbm 2.1.5\n"
     ]
    }
   ],
   "source": [
    "library(dplyr)\n",
    "library(caret)\n",
    "library(lattice)\n",
    "library(ggplot2)\n",
    "library(stats)\n",
    "library(Hmisc)\n",
    "library(car)\n",
    "library(leaps)\n",
    "library(outliers)\n",
    "library(kknn)\n",
    "library(knitr)\n",
    "library(psych)\n",
    "library(corrplot)\n",
    "library(tidyverse)\n",
    "library(cli)\n",
    "library(devtools)\n",
    "library(rpart)\n",
    "library(pROC)\n",
    "library(nnet)\n",
    "library(foreign)\n",
    "library(reshape2)\n",
    "library(lattice)\n",
    "library(ggplot2)\n",
    "library(comprehenr)\n",
    "library(gridExtra)\n",
    "library(MASS)\n",
    "library(aod)\n",
    "library(e1071)\n",
    "#library(factoextra)\n",
    "#conda install -c conda-forge r-factoextra \n",
    "library(class)\n",
    "library(randomForest)\n",
    "library(rpart)\n",
    "library(rpart.plot)\n",
    "library(gbm)"
   ]
  },
  {
   "cell_type": "markdown",
   "id": "18f45195",
   "metadata": {},
   "source": [
    "# Load Data"
   ]
  },
  {
   "cell_type": "code",
   "execution_count": 5,
   "id": "d9958614",
   "metadata": {},
   "outputs": [],
   "source": [
    "setwd(\"~/Downloads/Datasets/7406/Project\")\n",
    "\n",
    "white <- read.csv(file = \"winequality_white.csv\", head = TRUE, sep=\";\")\n",
    "red <- read.csv(file = \"winequality_red.csv\", head = TRUE, sep=\";\")"
   ]
  },
  {
   "cell_type": "code",
   "execution_count": null,
   "id": "d8986274",
   "metadata": {},
   "outputs": [],
   "source": [
    "#wine <- rbind(white, red)\n",
    "wine <- red\n",
    "\n",
    "\n",
    "wine.pr <- wine[1:11]\n",
    "\n",
    "#wine <- read.csv(file = \"winequality_red.csv\", head = TRUE, sep=\";\")\n",
    "wine$quality <- ifelse(wine$quality>= 6, 1,0)\n",
    "wine$quality <- as.factor(wine$quality)\n",
    "\n",
    "summary(wine)\n",
    "\n",
    "\n",
    "#Random sampling\n",
    "set.seed(7406)\n",
    "\n",
    "test <- 0.8\n",
    "\n",
    "ff <- floor((1 - test)*nrow(wine))\n",
    "\n",
    "ind <- sample(nrow(wine), ff, replace = FALSE)\n",
    "\n",
    "# Training and Test datasets\n",
    "wine_train <- wine[ind,]\n",
    "wine_test <- wine[-ind,]"
   ]
  },
  {
   "cell_type": "markdown",
   "id": "e63c0f8c",
   "metadata": {},
   "source": [
    "# Exploratory Data Analysis"
   ]
  },
  {
   "cell_type": "code",
   "execution_count": null,
   "id": "d4e4d770",
   "metadata": {},
   "outputs": [],
   "source": [
    "head(wine, 3)\n",
    "str(wine)\n",
    "summary(wine)\n",
    "\n",
    "nobs <- nrow(wine)"
   ]
  },
  {
   "cell_type": "code",
   "execution_count": null,
   "id": "684331d4",
   "metadata": {},
   "outputs": [],
   "source": [
    "dim(white)"
   ]
  },
  {
   "cell_type": "code",
   "execution_count": null,
   "id": "bd8fc8bf",
   "metadata": {},
   "outputs": [],
   "source": [
    "dim(red)"
   ]
  },
  {
   "cell_type": "code",
   "execution_count": null,
   "id": "b50824f6",
   "metadata": {},
   "outputs": [],
   "source": [
    "summary(wine)"
   ]
  },
  {
   "cell_type": "code",
   "execution_count": null,
   "id": "19bb1d74",
   "metadata": {},
   "outputs": [],
   "source": [
    "na_count <- sapply(wine, function(y) sum(length(which(is.na(y)))))\n",
    "na_count"
   ]
  },
  {
   "cell_type": "markdown",
   "id": "b4913211",
   "metadata": {},
   "source": [
    "# OUTLIERS"
   ]
  },
  {
   "cell_type": "code",
   "execution_count": null,
   "id": "595f1c0f",
   "metadata": {},
   "outputs": [],
   "source": [
    "par(mfrow = c(2,2))\n",
    "qqnorm(wine$quality, pch = 1, frame = FALSE, main = 'QQ-plot - QUALITY')\n",
    "qqline(wine$quality, col = \"blue\", lwd = 2)\n",
    "boxplot(wine$quality, main = 'Original data - Outliers')\n"
   ]
  },
  {
   "cell_type": "code",
   "execution_count": null,
   "id": "c1a59f5c",
   "metadata": {},
   "outputs": [],
   "source": [
    "grubbs.test(wine$quality, type =10)"
   ]
  },
  {
   "cell_type": "markdown",
   "id": "4e1b4e17",
   "metadata": {},
   "source": [
    "Our dataset does not have any missing values. \n",
    "\n",
    "Our response variable \"Quality\" is a categorical one with the ranks from 1 to 10.\n",
    "The range of values (min/max) across the variables does not require scaling or normalization. All predictors are numerical.\n"
   ]
  },
  {
   "cell_type": "code",
   "execution_count": null,
   "id": "01a8543f",
   "metadata": {},
   "outputs": [],
   "source": [
    "corrplot(cor(wine[1:(length(wine))]), method=\"number\")"
   ]
  },
  {
   "cell_type": "markdown",
   "id": "668becbc",
   "metadata": {},
   "source": [
    "Covariance Matrix\n",
    "\n",
    "There is some significant multicollineraity between several variables:\n",
    "\n",
    "density - alcohol\n",
    "total.sulfur.dioxide - free.sulfur.dioxide\n",
    "density - residual.sugar\n",
    "residual.sugar - total.sulfur.dioxide\n",
    "density - fixed.acidity\n",
    "\n",
    "Certain predictors will have to be removed. Most likely candidates are:\n",
    "\n",
    "free.sulfur.dioxide\n",
    "residual.sugar\n",
    "fixed.acidity\n",
    "alcohol\n"
   ]
  },
  {
   "cell_type": "code",
   "execution_count": null,
   "id": "aa29dd47",
   "metadata": {},
   "outputs": [],
   "source": [
    "par(mfrow = c(2,2))\n",
    "\n",
    "hist(wine$quality,xlab = 'Quality', main = \"Distribution of Red Wine Quality\")\n",
    "#hist(wine[wine$type == \"white\",]$quality,xlab = 'Quality', main = \"Distribution of White Wine Quality\")\n",
    "#hist(wine[wine$type == \"red\",]$quality,xlab = 'Quality', main = \"Distribution of Red Wine Quality\")"
   ]
  },
  {
   "cell_type": "code",
   "execution_count": null,
   "id": "f3dc75a4",
   "metadata": {},
   "outputs": [],
   "source": [
    "attach(wine)\n",
    "par(mfrow = c(3,2))\n",
    "\n",
    "plot(density, fixed.acidity)\n",
    "plot(volatile.acidity, total.sulfur.dioxide)\n",
    "plot(residual.sugar, density)\n",
    "plot(residual.sugar, total.sulfur.dioxide)\n",
    "plot(free.sulfur.dioxide, total.sulfur.dioxide)\n",
    "plot(density, alcohol)"
   ]
  },
  {
   "cell_type": "code",
   "execution_count": null,
   "id": "d6b74d11",
   "metadata": {},
   "outputs": [],
   "source": [
    "par(mfrow = c(3,3))\n",
    "boxplot(fixed.acidity ~ quality)\n",
    "boxplot(volatile.acidity ~ quality)\n",
    "boxplot(citric.acid ~ quality)\n",
    "boxplot(residual.sugar ~ quality)\n",
    "boxplot(chlorides ~ quality)\n",
    "boxplot(free.sulfur.dioxide ~ quality)\n",
    "boxplot(total.sulfur.dioxide ~ quality)\n",
    "boxplot(density ~ quality)\n",
    "boxplot(pH ~ quality)\n",
    "boxplot(sulphates ~ quality)\n",
    "boxplot(alcohol ~ quality)"
   ]
  },
  {
   "cell_type": "markdown",
   "id": "7ad88a09",
   "metadata": {},
   "source": [
    "MODELING\n",
    "\n",
    "We will start with converting scale values for \"quality\" from 1-10 to a binary system (0,1). A 1 will represent good wine and a 0 will represent \"bad\" wine.\n",
    "We will analyze initial dataset using ordinal logistic regression at the end of this research.\n",
    "\n",
    "At first, we will use logistic regression, KNN, SVM, Trees etc..\n",
    "\n",
    "For Logistic regression, we romoved the following non-significant predictors:\n",
    "\n",
    "density\n",
    "fixed.acidity\n",
    "residual.sugar\n",
    "\n",
    "This is well-aligned with the conclusions from the covariance matrix\n"
   ]
  },
  {
   "cell_type": "markdown",
   "id": "94c05450",
   "metadata": {},
   "source": [
    "# Logistic Regression"
   ]
  },
  {
   "cell_type": "markdown",
   "id": "0a68a223",
   "metadata": {},
   "source": [
    "### Logistic Regression with All Predictors"
   ]
  },
  {
   "cell_type": "code",
   "execution_count": null,
   "id": "ea87cc57",
   "metadata": {
    "scrolled": true
   },
   "outputs": [],
   "source": [
    "lgall <- glm(quality ~ ., data = wine, family = binomial(link=\"logit\"))\n",
    "summary(lgall)"
   ]
  },
  {
   "cell_type": "code",
   "execution_count": null,
   "id": "3a12a59e",
   "metadata": {},
   "outputs": [],
   "source": [
    "wald.test(Sigma = vcov(lgall), b = coef(lgall), Terms = 1:length(lgall$coef))"
   ]
  },
  {
   "cell_type": "markdown",
   "id": "82986d74",
   "metadata": {},
   "source": [
    "Since p-value = 0.0, then there are no non-significant coefficients."
   ]
  },
  {
   "cell_type": "code",
   "execution_count": null,
   "id": "fde7d380",
   "metadata": {},
   "outputs": [],
   "source": [
    "aiclgall <- round(AIC(lgall),1)\n",
    "biclgall <- round(BIC(lgall),1)\n",
    "\n",
    "print(paste('AIC = ', aiclgall, '     BIC = ', biclgall))"
   ]
  },
  {
   "cell_type": "code",
   "execution_count": null,
   "id": "0018e5c2",
   "metadata": {},
   "outputs": [],
   "source": [
    "print('Significance Ranking')\n",
    "round(vif(lgall),3)"
   ]
  },
  {
   "cell_type": "code",
   "execution_count": null,
   "id": "e1b8ecf8",
   "metadata": {},
   "outputs": [],
   "source": [
    "# Confidence Intervals\n",
    "\n",
    "exp(cbind(OR = coef(lgall), confint(lgall)))"
   ]
  },
  {
   "cell_type": "code",
   "execution_count": null,
   "id": "07e0f1c5",
   "metadata": {},
   "outputs": [],
   "source": [
    "#print('Error')\n",
    "prediction <- predict(lgall,wine[,1:11], type = \"response\")\n",
    "prediction <- ifelse(prediction>= .5, 1,0)"
   ]
  },
  {
   "cell_type": "code",
   "execution_count": null,
   "id": "628923d3",
   "metadata": {},
   "outputs": [],
   "source": [
    "cm <- confusionMatrix(wine$quality, as.factor(prediction))\n",
    "print(cm)\n",
    "\n",
    "print(paste('Accuracy = ', round(cm$overall['Accuracy'],3) ))"
   ]
  },
  {
   "cell_type": "markdown",
   "id": "ec7a1755",
   "metadata": {},
   "source": [
    "### Logistic Regression with Significant Predictors"
   ]
  },
  {
   "cell_type": "code",
   "execution_count": null,
   "id": "e26cfa5d",
   "metadata": {
    "scrolled": true
   },
   "outputs": [],
   "source": [
    "lgsig <- glm(quality ~ .- residual.sugar - fixed.acidity - density, data = wine, family = binomial(link=\"logit\"))\n",
    "summary(lgsig)"
   ]
  },
  {
   "cell_type": "code",
   "execution_count": null,
   "id": "ea348395",
   "metadata": {},
   "outputs": [],
   "source": [
    "wald.test(Sigma = vcov(lgsig), b = coef(lgsig), Terms = 1:length(lgsig$coef))"
   ]
  },
  {
   "cell_type": "code",
   "execution_count": null,
   "id": "efd030ff",
   "metadata": {},
   "outputs": [],
   "source": [
    "aiclgsig <- round(AIC(lgsig),1)\n",
    "biclgsig <- round(BIC(lgsig),1)\n",
    "\n",
    "print(paste('AIC = ', aiclgsig, '     BIC = ', biclgsig))"
   ]
  },
  {
   "cell_type": "code",
   "execution_count": null,
   "id": "2e99956b",
   "metadata": {},
   "outputs": [],
   "source": [
    "print('Significance Ranking')\n",
    "round(vif(lgsig),3)"
   ]
  },
  {
   "cell_type": "code",
   "execution_count": null,
   "id": "a732fff5",
   "metadata": {},
   "outputs": [],
   "source": [
    "exp(cbind(OR = coef(lgsig), confint(lgsig)))"
   ]
  },
  {
   "cell_type": "code",
   "execution_count": null,
   "id": "bf14a400",
   "metadata": {},
   "outputs": [],
   "source": [
    "#print('Error')\n",
    "predictions <- predict(lgsig,wine[,1:11], type = \"response\")\n",
    "predictions <- ifelse(predictions >= .5, 1,0)\n",
    "\n",
    "cm <- confusionMatrix(wine$quality, as.factor(predictions))\n",
    "print(cm)\n",
    "\n",
    "print(paste('Accuracy = ', round(cm$overall['Accuracy'],3) ))"
   ]
  },
  {
   "cell_type": "markdown",
   "id": "8d4ee967",
   "metadata": {},
   "source": [
    "# KMEANS"
   ]
  },
  {
   "cell_type": "code",
   "execution_count": null,
   "id": "a910181f",
   "metadata": {},
   "outputs": [],
   "source": [
    "#wine.pr$quality <- as.numeric(wine.pr$quality)\n",
    "\n",
    "num <- 15\n",
    "nst <- 6 #Initial number of centroids\n",
    "\n",
    "res_fin <- matrix(0, num, 1) \n",
    "\n",
    "for (k in 1:num) {\n",
    "  \n",
    "    kmd <- kmeans(wine.pr, k, nstart = nst)\n",
    "    kvl <- kmd$tot.withinss\n",
    "    res_fin[k] <- kvl\n",
    "}\n",
    "\n",
    "plot(res_fin, type = 'l', ylab = 'WSS', xlab = 'K',\n",
    "     main = 'Optimal K value for KMEANS')\n"
   ]
  },
  {
   "cell_type": "code",
   "execution_count": null,
   "id": "943afb22",
   "metadata": {
    "scrolled": true
   },
   "outputs": [],
   "source": [
    "# WSS Method\n",
    "set.seed(7406)\n",
    "\n",
    "kbest <- 4 # The best K Value\n",
    "fitK = kmeans(wine.pr, kbest, nstart = 5)\n",
    "plot(wine,col = fitK$cluster)\n",
    "\n"
   ]
  },
  {
   "cell_type": "code",
   "execution_count": null,
   "id": "09be7846",
   "metadata": {
    "scrolled": true
   },
   "outputs": [],
   "source": [
    "ggplot(wine, aes(x = fixed.acidity, y = volatile.acidity, shape = quality, col = quality))+geom_point()\n",
    "ggplot(wine, aes(x = density, y = alcohol, shape = quality, col = quality))+geom_point()\n",
    "ggplot(wine, aes(x = free.sulfur.dioxide, y = total.sulfur.dioxide, shape = quality, col = quality))+geom_point()\n",
    "\n",
    "# The data is not separable. Thus KNN is preferred choice over SVM\n"
   ]
  },
  {
   "cell_type": "code",
   "execution_count": null,
   "id": "a2aa314a",
   "metadata": {},
   "outputs": [],
   "source": [
    "fitK"
   ]
  },
  {
   "cell_type": "code",
   "execution_count": null,
   "id": "7dddd6b6",
   "metadata": {
    "scrolled": true
   },
   "outputs": [],
   "source": [
    "library(factoextra)\n",
    "fviz_cluster(fitK, data = wine.pr)"
   ]
  },
  {
   "cell_type": "markdown",
   "id": "6309c7ea",
   "metadata": {},
   "source": [
    "# KNN"
   ]
  },
  {
   "cell_type": "code",
   "execution_count": null,
   "id": "f14df7b0",
   "metadata": {},
   "outputs": [],
   "source": [
    "#Random sampling\n",
    "set.seed(7406)\n",
    "\n",
    "test <- 0.8\n",
    "\n",
    "ff <- floor((1 - test)*nrow(wine))\n",
    "\n",
    "ind <- sample(nrow(wine), ff, replace = FALSE)\n",
    "\n",
    "# Training and Test datasets\n",
    "wine_train <- wine[ind,]\n",
    "wine_test <- wine[-ind,]"
   ]
  },
  {
   "cell_type": "code",
   "execution_count": null,
   "id": "1d0d3ca6",
   "metadata": {},
   "outputs": [],
   "source": [
    "i=1\n",
    "k.optm=1\n",
    "\n",
    "for (i in 1:28){\n",
    "    knn.mod <- knn(train=wine_train, test=wine_test, cl=wine_train$quality, k=i)\n",
    "    \n",
    "    k.optm[i] <- 100 * sum(wine_test$quality == knn.mod)/NROW(wine_test$quality)\n",
    "    \n",
    "    k=i\n",
    "    \n",
    "    cat(k,'=',k.optm[i],'\n",
    "')}\n",
    "\n",
    "plot(k.optm, type=\"b\", xlab=\"K- Value\",ylab=\"Accuracy level\")"
   ]
  },
  {
   "cell_type": "code",
   "execution_count": null,
   "id": "536d8daf",
   "metadata": {},
   "outputs": [],
   "source": [
    "knn <- knn(train=wine_train, test=wine_test, cl=wine_train$quality, k=3)"
   ]
  },
  {
   "cell_type": "code",
   "execution_count": null,
   "id": "7aebe2d7",
   "metadata": {},
   "outputs": [],
   "source": [
    "cm <- confusionMatrix(wine_test$quality, as.factor(knn))\n",
    "print(cm)\n",
    "\n",
    "print(paste('Accuracy = ', round(cm$overall['Accuracy'],3) ))"
   ]
  },
  {
   "cell_type": "markdown",
   "id": "9153faeb",
   "metadata": {},
   "source": [
    "# SVM"
   ]
  },
  {
   "cell_type": "code",
   "execution_count": null,
   "id": "c89b6ac1",
   "metadata": {},
   "outputs": [],
   "source": [
    "# Linear Classifier\n",
    "\n",
    "classifier = svm(formula = quality ~ .,\n",
    "                 data = wine_train,\n",
    "                 type = 'C-classification',\n",
    "                 kernel = 'linear')\n",
    "summary(classifier)"
   ]
  },
  {
   "cell_type": "code",
   "execution_count": null,
   "id": "9eb91b49",
   "metadata": {},
   "outputs": [],
   "source": [
    "predictions <- predict(classifier, newdata = wine_test[,1:11])\n",
    "cm <- confusionMatrix(wine_test$quality, as.factor(predictions))\n",
    "print(cm)\n",
    "print(paste('Accuracy = ', round(cm$overall['Accuracy'],3) ))"
   ]
  },
  {
   "cell_type": "code",
   "execution_count": null,
   "id": "558a908a",
   "metadata": {},
   "outputs": [],
   "source": [
    "# Non-Linear Classifier\n",
    "\n",
    "classifier_rb = svm(formula = quality ~ .,\n",
    "                 data = wine_train,\n",
    "                 type = 'C-classification',\n",
    "                 kernel = 'radial')\n",
    "summary(classifier_rb)\n",
    "\n",
    "\n",
    "predictions_rb <- predict(classifier_rb, newdata = wine_test[,1:11])\n",
    "cmrb <- confusionMatrix(wine_test$quality, as.factor(predictions_rb))\n",
    "print(cmrb)\n",
    "print(paste('Accuracy = ', round(cmrb$overall['Accuracy'],3) ))"
   ]
  },
  {
   "cell_type": "code",
   "execution_count": null,
   "id": "f4afda07",
   "metadata": {},
   "outputs": [],
   "source": [
    "# Linera Classifier with variable C parameter\n",
    "\n",
    "# To get graphical outputs\n",
    "results_c <- matrix(rep(0, len=14), nrow = 2)\n",
    "\n",
    "c_value = c(1, 2, 3, 5, 10, 20, 50) # chosen C values to select from\n",
    "cl = length(c_value) \n",
    "\n",
    "for (j in 1:cl) {\n",
    "    \n",
    "    cj <- c_value[j]\n",
    "    results_c[1,j] <- cj\n",
    "    \n",
    "    # Build the Model for different C values\n",
    "#    msvm = ksvm(as.matrix(wine_train [,1:11]), wine_train$quality),\n",
    "#                type = 'C-svc', kernel = 'vanilladot', C = cj, scaled = TRUE)\n",
    "    \n",
    "    msvm <- svm(formula = quality ~ .,\n",
    "                data = wine_train,\n",
    "                type = 'C-classification',\n",
    "                kernel = 'linear',\n",
    "                cost = cj,\n",
    "                scaled = TRUE)\n",
    "    \n",
    "    print(msvm) # display the model\n",
    "    \n",
    "  # calculate a1...am\n",
    "#  a <- colSums(msvm@xmatrix[[1]] * msvm@coef[[1]])\n",
    "#  print(a)\n",
    "    \n",
    "  # calculate a0\n",
    "#  a0 <- -msvm@b\n",
    "#  print(a0)\n",
    "    \n",
    "  # Model Prediction and Accuracy\n",
    "  pred <- predict(msvm,wine_test[,1:11])\n",
    "  prediction = sum(pred == wine_test$quality) / nobs\n",
    "  results_c[2,j] <- prediction\n",
    "    \n",
    "}\n",
    "\n",
    "plot(results_c[1,], results_c[2,],main=\"Accuracy for C Values, Linear\",\n",
    "     ylab = \"Accuracy, %\", xlab = \"C\", type = \"l\", col = \"red\")"
   ]
  },
  {
   "cell_type": "markdown",
   "id": "a1ed8eb2",
   "metadata": {},
   "source": [
    "# Ordinal Regression"
   ]
  },
  {
   "cell_type": "code",
   "execution_count": null,
   "id": "a7b02bd7",
   "metadata": {},
   "outputs": [],
   "source": [
    "ord_mod <- polr(as.factor(quality) ~., data = wine.pr, Hess = TRUE)\n",
    "summary(ord_mod)\n"
   ]
  },
  {
   "cell_type": "code",
   "execution_count": null,
   "id": "85fd8576",
   "metadata": {},
   "outputs": [],
   "source": [
    "(ctable <- coef(summary(ord_mod)))"
   ]
  },
  {
   "cell_type": "code",
   "execution_count": null,
   "id": "a651df12",
   "metadata": {},
   "outputs": [],
   "source": [
    "## calculate and store p values\n",
    "p <- pnorm(abs(ctable[, \"t value\"]), lower.tail = FALSE) * 2\n",
    "\n",
    "## combined table\n",
    "(ctable <- cbind(ctable, \"p value\" = p))"
   ]
  },
  {
   "cell_type": "code",
   "execution_count": null,
   "id": "c14459ff",
   "metadata": {},
   "outputs": [],
   "source": [
    "#(ci <- confint(ord_mod)) # default method gives profiled CIs"
   ]
  },
  {
   "cell_type": "code",
   "execution_count": null,
   "id": "240376e4",
   "metadata": {},
   "outputs": [],
   "source": [
    "confint.default(ord_mod) # CIs assuming normality\n",
    "\n",
    "# If the move from 2.5% to 97.% includes a zero (a sign change) then this coefficient is NOT statistically significant"
   ]
  },
  {
   "cell_type": "code",
   "execution_count": null,
   "id": "78fe72f7",
   "metadata": {},
   "outputs": [],
   "source": [
    "## odds ratios - These coefficients are called proportional odds ratios\n",
    "#exp(cbind(OR = coef(ord_mod), ci))"
   ]
  },
  {
   "cell_type": "code",
   "execution_count": null,
   "id": "c4c71143",
   "metadata": {},
   "outputs": [],
   "source": [
    "# Let's rerun the regression with only significant predictors\n",
    "\n",
    "ord_mods <- polr(as.factor(quality) ~. -citric.acid - chlorides - total.sulfur.dioxide, data = wine.pr, Hess = TRUE)\n",
    "summary(ord_mods)\n"
   ]
  },
  {
   "cell_type": "code",
   "execution_count": null,
   "id": "bf99c5b4",
   "metadata": {},
   "outputs": [],
   "source": [
    "(ctable1 <- coef(summary(ord_mods)))"
   ]
  },
  {
   "cell_type": "code",
   "execution_count": null,
   "id": "6d2a0ca9",
   "metadata": {},
   "outputs": [],
   "source": [
    "## calculate and store p values\n",
    "p <- pnorm(abs(ctable1[, \"t value\"]), lower.tail = FALSE) * 2\n",
    "\n",
    "## combined table\n",
    "(ctable1 <- cbind(ctable1, \"p value\" = p))"
   ]
  },
  {
   "cell_type": "code",
   "execution_count": null,
   "id": "f738588f",
   "metadata": {},
   "outputs": [],
   "source": [
    "#(ci1 <- confint(ord_mods)) # default method gives profiled CIs"
   ]
  },
  {
   "cell_type": "code",
   "execution_count": null,
   "id": "e7d631d6",
   "metadata": {},
   "outputs": [],
   "source": [
    "ci1 <- confint.default(ord_mods) # CIs assuming normality\n",
    "ci1\n",
    "\n",
    "# All predictors are significant"
   ]
  },
  {
   "cell_type": "code",
   "execution_count": null,
   "id": "5a6efc15",
   "metadata": {},
   "outputs": [],
   "source": [
    "## odds ratios - These coefficients are called proportional odds ratios\n",
    "exp(cbind(OR = coef(ord_mods), ci1))"
   ]
  },
  {
   "cell_type": "code",
   "execution_count": null,
   "id": "00aec249",
   "metadata": {},
   "outputs": [],
   "source": [
    "# Proportional Odds\n",
    "\n",
    "sf <- function(y) {\n",
    "  c('Y>=0' = qlogis(mean(y >= 0)),\n",
    "    'Y>=1' = qlogis(mean(y >= 1)),\n",
    "    'Y>=2' = qlogis(mean(y >= 2)),\n",
    "    'Y>=3' = qlogis(mean(y >= 3)),\n",
    "    'Y>=4' = qlogis(mean(y >= 4)),\n",
    "    'Y>=6' = qlogis(mean(y >= 6)),\n",
    "    'Y>=7' = qlogis(mean(y >= 7)),\n",
    "    'Y>=8' = qlogis(mean(y >= 8)),\n",
    "    'Y>=9' = qlogis(mean(y >= 9)))\n",
    "}\n",
    "\n",
    "(s <- with(wine, summary(as.numeric(quality) ~ fixed.acidity + volatile.acidity + residual.sugar + \n",
    "                           free.sulfur.dioxide + density + pH + sulphates + alcohol, fun=sf)))"
   ]
  },
  {
   "cell_type": "code",
   "execution_count": null,
   "id": "82d4f778",
   "metadata": {},
   "outputs": [],
   "source": [
    "# Example\n",
    "\n",
    "glm(I(as.numeric(quality) >= 4) ~ density, family =\"binomial\", data = wine)"
   ]
  },
  {
   "cell_type": "code",
   "execution_count": null,
   "id": "91260a62",
   "metadata": {},
   "outputs": [],
   "source": [
    "#s[, 4] <- s[, 4] - s[, 3]\n",
    "#s[, 3] <- s[, 3] - s[, 3]\n",
    "#s"
   ]
  },
  {
   "cell_type": "code",
   "execution_count": null,
   "id": "0ad749a9",
   "metadata": {
    "scrolled": true
   },
   "outputs": [],
   "source": [
    "glm(I(as.numeric(quality) >= 6) ~ density, family =\"binomial\", data = wine)"
   ]
  },
  {
   "cell_type": "markdown",
   "id": "148886c9",
   "metadata": {},
   "source": [
    "# Random Forest"
   ]
  },
  {
   "cell_type": "code",
   "execution_count": null,
   "id": "18620432",
   "metadata": {},
   "outputs": [],
   "source": [
    "rf <- randomForest(quality~., data=wine_train, proximity=TRUE) \n",
    "predictions <- predict(rf, wine_test)\n",
    "confusionMatrix(predictions, wine_test$quality)"
   ]
  },
  {
   "cell_type": "code",
   "execution_count": null,
   "id": "7bbf2cc7",
   "metadata": {},
   "outputs": [],
   "source": [
    "plot(rf)"
   ]
  },
  {
   "cell_type": "code",
   "execution_count": null,
   "id": "1cadfbbf",
   "metadata": {},
   "outputs": [],
   "source": [
    "hist(treesize(rf),\n",
    "     main = \"No. of Nodes for the Trees\",\n",
    "     col = \"green\")\n"
   ]
  },
  {
   "cell_type": "code",
   "execution_count": null,
   "id": "fbcfe481",
   "metadata": {},
   "outputs": [],
   "source": [
    "    varImpPlot(rf,\n",
    "               sort = T,\n",
    "               n.var = 10,\n",
    "               main = \"Top 10 - Variable Importance\")"
   ]
  },
  {
   "cell_type": "code",
   "execution_count": null,
   "id": "3ae2dfc8",
   "metadata": {
    "scrolled": true
   },
   "outputs": [],
   "source": [
    "importance(rf)"
   ]
  },
  {
   "cell_type": "raw",
   "id": "aba28f74",
   "metadata": {},
   "source": [
    "control <- trainControl(method='repeatedcv', \n",
    "                        number=10, \n",
    "                        repeats=3,\n",
    "                        search = 'random')\n",
    "\n",
    "set.seed(1)\n",
    "rf_random <- train(quality ~ .,\n",
    "                   data = wine,\n",
    "                   method = 'rf',\n",
    "                   metric = 'Accuracy',\n",
    "                   tuneLength  = 15, \n",
    "                   trControl = control)\n",
    "print(rf_random)"
   ]
  },
  {
   "cell_type": "markdown",
   "id": "169137b4",
   "metadata": {},
   "source": [
    "# Decision Tree"
   ]
  },
  {
   "cell_type": "code",
   "execution_count": null,
   "id": "42c25954",
   "metadata": {},
   "outputs": [],
   "source": [
    "fit <- rpart(quality~., data = wine_train, method = 'class')\n",
    "rpart.plot(fit, extra = 106)"
   ]
  },
  {
   "cell_type": "code",
   "execution_count": null,
   "id": "526f0949",
   "metadata": {},
   "outputs": [],
   "source": [
    "predictions <- predict(fit, wine_test, type = 'class')\n",
    "cm <- confusionMatrix(wine_test$quality, as.factor(predictions))\n",
    "print(cm)\n",
    "print(paste('Accuracy = ', round(cm$overall['Accuracy'],3) ))"
   ]
  },
  {
   "cell_type": "markdown",
   "id": "4ae87885",
   "metadata": {},
   "source": [
    "BOOSTING\n",
    "\n",
    "All variables"
   ]
  },
  {
   "cell_type": "code",
   "execution_count": 17,
   "id": "019bb797",
   "metadata": {},
   "outputs": [
    {
     "data": {
      "text/html": [
       "281"
      ],
      "text/latex": [
       "281"
      ],
      "text/markdown": [
       "281"
      ],
      "text/plain": [
       "[1] 281"
      ]
     },
     "metadata": {},
     "output_type": "display_data"
    },
    {
     "data": {
      "image/png": "[encoded data removed]",
      "text/plain": [
       "plot without title"
      ]
     },
     "metadata": {},
     "output_type": "display_data"
    }
   ],
   "source": [
    "# Boosting\n",
    "set.seed(7406)\n",
    "\n",
    "#wine <- rbind(white, red)\n",
    "wine <- red\n",
    "\n",
    "\n",
    "wine.pr <- wine[1:11]\n",
    "\n",
    "#wine <- read.csv(file = \"winequality_red.csv\", head = TRUE, sep=\";\")\n",
    "wine$quality <- ifelse(wine$quality>= 6, 1,0)\n",
    "\n",
    "#Random sampling\n",
    "set.seed(7406)\n",
    "\n",
    "test <- 0.8\n",
    "\n",
    "ff <- floor((1 - test)*nrow(wine))\n",
    "\n",
    "ind <- sample(nrow(wine), ff, replace = FALSE)\n",
    "\n",
    "# Training and Test datasets\n",
    "wine_train <- wine[ind,]\n",
    "wine_test <- wine[-ind,]\n",
    "\n",
    "gbm.train <- gbm(quality ~ .,\n",
    "                 data=wine_train,\n",
    "                 distribution = 'bernoulli',\n",
    "                 n.trees = 500, \n",
    "                 shrinkage = 0.01, \n",
    "                 interaction.depth = 3,\n",
    "                 cv.folds = 5,\n",
    "                 n.cores = NULL,verbose = FALSE)\n",
    "                  \n",
    "## Model Inspection \n",
    "## Find the estimated optimal number of iterations\n",
    "perf_gbm1 = gbm.perf(gbm.train, method=\"cv\") \n",
    "perf_gbm1"
   ]
  },
  {
   "cell_type": "code",
   "execution_count": 18,
   "id": "9a89aa8f",
   "metadata": {},
   "outputs": [
    {
     "data": {
      "text/html": [
       "<table>\n",
       "<thead><tr><th></th><th scope=col>var</th><th scope=col>rel.inf</th></tr></thead>\n",
       "<tbody>\n",
       "\t<tr><th scope=row>alcohol</th><td>alcohol             </td><td>26.830706           </td></tr>\n",
       "\t<tr><th scope=row>sulphates</th><td>sulphates           </td><td>17.951417           </td></tr>\n",
       "\t<tr><th scope=row>volatile.acidity</th><td>volatile.acidity    </td><td>10.954048           </td></tr>\n",
       "\t<tr><th scope=row>total.sulfur.dioxide</th><td>total.sulfur.dioxide</td><td> 8.021901           </td></tr>\n",
       "\t<tr><th scope=row>chlorides</th><td>chlorides           </td><td> 7.581519           </td></tr>\n",
       "\t<tr><th scope=row>pH</th><td>pH                  </td><td> 6.381061           </td></tr>\n",
       "\t<tr><th scope=row>density</th><td>density             </td><td> 6.001086           </td></tr>\n",
       "\t<tr><th scope=row>fixed.acidity</th><td>fixed.acidity       </td><td> 5.389601           </td></tr>\n",
       "\t<tr><th scope=row>residual.sugar</th><td>residual.sugar      </td><td> 4.237370           </td></tr>\n",
       "\t<tr><th scope=row>citric.acid</th><td>citric.acid         </td><td> 4.205721           </td></tr>\n",
       "\t<tr><th scope=row>free.sulfur.dioxide</th><td>free.sulfur.dioxide </td><td> 2.445569           </td></tr>\n",
       "</tbody>\n",
       "</table>\n"
      ],
      "text/latex": [
       "\\begin{tabular}{r|ll}\n",
       "  & var & rel.inf\\\\\n",
       "\\hline\n",
       "\talcohol & alcohol              & 26.830706           \\\\\n",
       "\tsulphates & sulphates            & 17.951417           \\\\\n",
       "\tvolatile.acidity & volatile.acidity     & 10.954048           \\\\\n",
       "\ttotal.sulfur.dioxide & total.sulfur.dioxide &  8.021901           \\\\\n",
       "\tchlorides & chlorides            &  7.581519           \\\\\n",
       "\tpH & pH                   &  6.381061           \\\\\n",
       "\tdensity & density              &  6.001086           \\\\\n",
       "\tfixed.acidity & fixed.acidity        &  5.389601           \\\\\n",
       "\tresidual.sugar & residual.sugar       &  4.237370           \\\\\n",
       "\tcitric.acid & citric.acid          &  4.205721           \\\\\n",
       "\tfree.sulfur.dioxide & free.sulfur.dioxide  &  2.445569           \\\\\n",
       "\\end{tabular}\n"
      ],
      "text/markdown": [
       "\n",
       "| <!--/--> | var | rel.inf |\n",
       "|---|---|---|\n",
       "| alcohol | alcohol              | 26.830706            |\n",
       "| sulphates | sulphates            | 17.951417            |\n",
       "| volatile.acidity | volatile.acidity     | 10.954048            |\n",
       "| total.sulfur.dioxide | total.sulfur.dioxide |  8.021901            |\n",
       "| chlorides | chlorides            |  7.581519            |\n",
       "| pH | pH                   |  6.381061            |\n",
       "| density | density              |  6.001086            |\n",
       "| fixed.acidity | fixed.acidity        |  5.389601            |\n",
       "| residual.sugar | residual.sugar       |  4.237370            |\n",
       "| citric.acid | citric.acid          |  4.205721            |\n",
       "| free.sulfur.dioxide | free.sulfur.dioxide  |  2.445569            |\n",
       "\n"
      ],
      "text/plain": [
       "                     var                  rel.inf  \n",
       "alcohol              alcohol              26.830706\n",
       "sulphates            sulphates            17.951417\n",
       "volatile.acidity     volatile.acidity     10.954048\n",
       "total.sulfur.dioxide total.sulfur.dioxide  8.021901\n",
       "chlorides            chlorides             7.581519\n",
       "pH                   pH                    6.381061\n",
       "density              density               6.001086\n",
       "fixed.acidity        fixed.acidity         5.389601\n",
       "residual.sugar       residual.sugar        4.237370\n",
       "citric.acid          citric.acid           4.205721\n",
       "free.sulfur.dioxide  free.sulfur.dioxide   2.445569"
      ]
     },
     "metadata": {},
     "output_type": "display_data"
    },
    {
     "data": {
      "image/png": "[encoded data removed]",
      "text/plain": [
       "plot without title"
      ]
     },
     "metadata": {},
     "output_type": "display_data"
    }
   ],
   "source": [
    "summary(gbm.train)"
   ]
  },
  {
   "cell_type": "code",
   "execution_count": 19,
   "id": "5d1215f4",
   "metadata": {},
   "outputs": [
    {
     "name": "stdout",
     "output_type": "stream",
     "text": [
      "[1] \"Boost Training Error =  0.2006\"\n",
      "[1] \"Boost Testing Error =  0.2586\"\n"
     ]
    }
   ],
   "source": [
    "## Training error\n",
    "pred1gbm <- predict(gbm.train,newdata = wine_train, n.trees=perf_gbm1, type=\"response\")\n",
    "\n",
    "y1hat <- ifelse(pred1gbm < 0.5, 0, 1)\n",
    "\n",
    "bst_train_err <- round(mean(y1hat != wine_train$quality),4)\n",
    "print(paste('Boost Training Error = ', bst_train_err))\n",
    "\n",
    "## Testing Error\n",
    "y2hat <- ifelse(predict(gbm.train,newdata = wine_test, n.trees=perf_gbm1, type=\"response\") < 0.5, 0, 1)\n",
    "bst_test_err <- round(mean(y2hat != wine_test$quality),4)\n",
    "print(paste('Boost Testing Error = ', bst_test_err))\n",
    "\n"
   ]
  },
  {
   "cell_type": "markdown",
   "id": "72e89613",
   "metadata": {},
   "source": [
    "Only SIGNIFICANT variables"
   ]
  },
  {
   "cell_type": "code",
   "execution_count": 20,
   "id": "f3a1465e",
   "metadata": {},
   "outputs": [
    {
     "data": {
      "text/html": [
       "236"
      ],
      "text/latex": [
       "236"
      ],
      "text/markdown": [
       "236"
      ],
      "text/plain": [
       "[1] 236"
      ]
     },
     "metadata": {},
     "output_type": "display_data"
    },
    {
     "data": {
      "image/png": "[encoded data removed]",
      "text/plain": [
       "plot without title"
      ]
     },
     "metadata": {},
     "output_type": "display_data"
    }
   ],
   "source": [
    "gbm.sig <- gbm(quality ~ . - residual.sugar - fixed.acidity - density - citric.acid - pH,\n",
    "                 data=wine_train,\n",
    "                 distribution = 'bernoulli',\n",
    "                 n.trees = 500, \n",
    "                 shrinkage = 0.01, \n",
    "                 interaction.depth = 3,\n",
    "                 cv.folds = 5,\n",
    "                 n.cores = NULL,verbose = FALSE)\n",
    "                  \n",
    "## Model Inspection \n",
    "## Find the estimated optimal number of iterations\n",
    "perf_gbm2 = gbm.perf(gbm.sig, method=\"cv\") \n",
    "perf_gbm2"
   ]
  },
  {
   "cell_type": "code",
   "execution_count": 21,
   "id": "a57eb2de",
   "metadata": {},
   "outputs": [
    {
     "name": "stdout",
     "output_type": "stream",
     "text": [
      "[1] \"Boost Training Error =  0.2163\"\n",
      "[1] \"Boost Testing Error =  0.2695\"\n"
     ]
    }
   ],
   "source": [
    "## Training error\n",
    "pred11gbm <- predict(gbm.sig,newdata = wine_train, n.trees=perf_gbm2, type=\"response\")\n",
    "\n",
    "y11hat <- ifelse(pred11gbm < 0.5, 0, 1)\n",
    "\n",
    "bst1_train_err <- round(mean(y11hat != wine_train$quality),4)\n",
    "print(paste('Boost Training Error = ', bst1_train_err))\n",
    "\n",
    "## Testing Error\n",
    "y22hat <- ifelse(predict(gbm.sig,newdata = wine_test, n.trees=perf_gbm2, type=\"response\") < 0.5, 0, 1)\n",
    "bst2_test_err <- round(mean(y22hat != wine_test$quality),4)\n",
    "print(paste('Boost Testing Error = ', bst2_test_err))\n",
    "\n"
   ]
  },
  {
   "cell_type": "markdown",
   "id": "dd463e72",
   "metadata": {},
   "source": [
    "# Implementation of Monte Carlos CV for: Logistic Regression, KNN, SVM, Ordinal Regression, Random Forest, Decision Tree"
   ]
  },
  {
   "cell_type": "code",
   "execution_count": null,
   "id": "65a3ba0d",
   "metadata": {},
   "outputs": [],
   "source": [
    "set.seed(7406)\n",
    "n = dim(wine)[1]; \n",
    "n1 = round(n/5);\n",
    "B= 100;\n",
    "\n",
    "b_index <- list()\n",
    "te1 <- list()\n",
    "te2 <- list()\n",
    "te3 <- list()\n",
    "te4 <- list()\n",
    "te5 <- list()\n",
    "te6 <- list()\n",
    "\n",
    "\n",
    "\n",
    "for (b in 1:B){\n",
    "### randomly select n1 observations as a new training  subset in each loop\n",
    "    flag <- sort(sample(1:n, n1));\n",
    "    wine_train_temp <- wine[-flag,];  ## temp training set for CV\n",
    "    wine_test_temp  <- wine[flag,]; ## temp testing set for CV\n",
    "    \n",
    "    b_index <- c(b_index, b)\n",
    "     \n",
    "    # Model 1: Logistic Regression with All Predictors\n",
    "    lgall <- glm(quality ~ ., data = wine_train_temp, family = binomial(link=\"logit\"))\n",
    "    prediction <- predict(lgall,wine_test_temp[,1:11], type = \"response\")\n",
    "    prediction <- ifelse(prediction>= .5, 1,0)\n",
    "    cm <- confusionMatrix(wine_test_temp$quality, as.factor(prediction))\n",
    "    te1 <- c(te1,round(cm$overall[['Accuracy']],3))\n",
    "    \n",
    "    # Model 2: Logistic Regression with Significant Predictors\n",
    "    lgselect <- glm(quality ~ .- residual.sugar - fixed.acidity, data = wine, family = binomial(link=\"logit\"))\n",
    "    prediction <- predict(lgselect,wine_test_temp[,1:11], type = \"response\")\n",
    "    prediction <- ifelse(prediction>= .5, 1,0)\n",
    "    cm <- confusionMatrix(wine_test_temp$quality, as.factor(prediction))\n",
    "    te2 <- c(te2,round(cm$overall[['Accuracy']],3))\n",
    "    \n",
    "    # Model 3: Knn at k = 3\n",
    "    knn <- knn(train=wine_train_temp, test=wine_test_temp, cl=wine_train_temp$quality, k=3)\n",
    "    cm <- confusionMatrix(wine_test_temp$quality, as.factor(knn))\n",
    "    te3 <- c(te3,round(cm$overall[['Accuracy']],3))\n",
    "    \n",
    "    # Model 4: SVM C = 2\n",
    "    classifier = svm(formula = quality ~ .,data = wine_train_temp,type = 'C-classification', \n",
    "                     cost = 2, kernel = 'linear')\n",
    "    predictions <- predict(classifier, newdata = wine_test_temp[,1:11])\n",
    "    cm <- confusionMatrix(wine_test_temp$quality, as.factor(predictions))\n",
    "    te4 <- c(te4,round(cm$overall[['Accuracy']],3))\n",
    "\n",
    "    # Model 5: Random Forest - mtry\n",
    "    rf <- randomForest(quality~., data=wine_train_temp, proximity=TRUE) \n",
    "    predictions <- predict(rf, wine_test_temp)\n",
    "    cm <- confusionMatrix(predictions, wine_test_temp$quality)\n",
    "    te5 <- c(te5,round(cm$overall[['Accuracy']],3))\n",
    "    \n",
    "    # Model 6: Decision Tree - cp\n",
    "    fit <- rpart(quality~., data = wine_train_temp, method = 'class')\n",
    "    predictions <- predict(fit, wine_test_temp, type = 'class')\n",
    "    cm <- confusionMatrix(wine_test_temp$quality, as.factor(predictions))\n",
    "    te6 <- c(te6,round(cm$overall[['Accuracy']],3))\n",
    "\n",
    "    \n",
    "\n",
    "}"
   ]
  },
  {
   "cell_type": "code",
   "execution_count": null,
   "id": "c16c3a8e",
   "metadata": {},
   "outputs": [],
   "source": [
    "TEALL <- data.frame(unlist(te1), unlist(te2), unlist(te3), unlist(te4), unlist(te5), unlist(te6))\n",
    "\n",
    "colnames(TEALL) <- c(\"LogReg\", \"LogRegSelect\", \"Knn\", \"Svm\", \"RF\", \"DTree\")\n",
    "\n",
    "results_viz = data.frame(unlist(apply(TEALL, 2, mean)))\n",
    "results_viz\n",
    "\n"
   ]
  },
  {
   "cell_type": "code",
   "execution_count": null,
   "id": "a6f90179",
   "metadata": {},
   "outputs": [],
   "source": [
    "dim(wine_test_temp)[1]/dim(wine_train_temp)[1]"
   ]
  },
  {
   "cell_type": "code",
   "execution_count": null,
   "id": "84bf95fd",
   "metadata": {},
   "outputs": [],
   "source": []
  },
  {
   "cell_type": "code",
   "execution_count": null,
   "id": "9d504283",
   "metadata": {},
   "outputs": [],
   "source": []
  }
 ],
 "metadata": {
  "kernelspec": {
   "display_name": "R",
   "language": "R",
   "name": "ir"
  },
  "language_info": {
   "codemirror_mode": "r",
   "file_extension": ".r",
   "mimetype": "text/x-r-source",
   "name": "R",
   "pygments_lexer": "r",
   "version": "3.6.1"
  }
 },
 "nbformat": 4,
 "nbformat_minor": 5
}
